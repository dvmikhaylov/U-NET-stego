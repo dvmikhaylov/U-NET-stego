{
  "nbformat": 4,
  "nbformat_minor": 0,
  "metadata": {
    "colab": {
      "provenance": []
    },
    "kernelspec": {
      "name": "python3",
      "display_name": "Python 3"
    },
    "language_info": {
      "name": "python"
    }
  },
  "cells": [
    {
      "cell_type": "code",
      "execution_count": 3,
      "metadata": {
        "id": "2FiwgnuCVEsi"
      },
      "outputs": [],
      "source": [
        "import torch\n",
        "import torch.nn as nn\n",
        "import torch.nn.functional as F\n",
        "import numpy as np\n",
        "from tqdm import tqdm"
      ]
    },
    {
      "cell_type": "markdown",
      "source": [
        "# Архитектура встраивания"
      ],
      "metadata": {
        "id": "Va5yoeoIfWQu"
      }
    },
    {
      "cell_type": "code",
      "source": [
        "class ConNormAct(nn.Module):\n",
        "  def __init__(self, in_nf, out_nf):\n",
        "    super().__init__()\n",
        "\n",
        "    self.conv = nn.Conv2d(in_nf, out_nf, 4, padding = 1, stride = 2, bias = False)\n",
        "    self.norm = nn.BatchNorm2d(out_nf)\n",
        "    self.act = nn.LeakyReLU()\n",
        "\n",
        "  def forward(self, x):\n",
        "    out = self.conv(x)\n",
        "    out = self.norm(out)\n",
        "    out = self.act(out)\n",
        "\n",
        "    return out"
      ],
      "metadata": {
        "id": "ivXwLDfjbyXH"
      },
      "execution_count": 4,
      "outputs": []
    },
    {
      "cell_type": "code",
      "source": [
        "class DeConNormAct(nn.Module):\n",
        "  def __init__(self, in_nf, out_nf):\n",
        "    super().__init__()\n",
        "\n",
        "    self.deconv = nn.ConvTranspose2d(in_nf, out_nf, 4, padding= 1, stride=2, bias= False)\n",
        "    self.norm = nn.BatchNorm2d(out_nf)\n",
        "    self.act = nn.ReLU()\n",
        "\n",
        "  def forward(self, x):\n",
        "    out = self.deconv(x)\n",
        "    out = self.norm(out)\n",
        "    out = self.act(out)\n",
        "\n",
        "    return out"
      ],
      "metadata": {
        "id": "rXWJ2ejPJb7X"
      },
      "execution_count": 5,
      "outputs": []
    },
    {
      "cell_type": "code",
      "source": [
        "class UnetBlock(nn.Module):\n",
        "\n",
        "  def __init__(self, in_nf,nf, modul = None):\n",
        "    super().__init__()\n",
        "\n",
        "    self.conv = ConNormAct(in_nf, nf)\n",
        "    self.modul = modul\n",
        "    self.deconv = DeConNormAct(nf, in_nf)\n",
        "    self.conv_cat = nn.Conv2d(2*in_nf, in_nf, 3, padding=1)\n",
        "\n",
        "  def forward(self, x):\n",
        "    out = self.conv(x)\n",
        "    if self.modul is not None:\n",
        "      out = self.modul(out)\n",
        "    out = self.deconv(out)\n",
        "    out = torch.cat((x, out), axis=1)\n",
        "    out = self.conv_cat(out)\n",
        "\n",
        "    return out"
      ],
      "metadata": {
        "id": "fPZ2l7vuVV85"
      },
      "execution_count": 6,
      "outputs": []
    },
    {
      "cell_type": "code",
      "source": [
        "class Unet(nn.Module):\n",
        "  def __init__(self, in_nf=2, nf = 128, out_nf = 1):\n",
        "    super().__init__()\n",
        "    self.conv_st = nn.Conv2d(in_nf, nf, 3, padding=1, stride = 1)\n",
        "    self.act0 = nn.LeakyReLU()\n",
        "\n",
        "\n",
        "    block = UnetBlock(nf*4, nf*4)\n",
        "    block = UnetBlock(nf*4, nf*4, block)\n",
        "    block = UnetBlock(nf*4, nf*4, block)\n",
        "    block = UnetBlock(nf*2, nf*4, block)\n",
        "    self.block = UnetBlock(nf, nf*2, block)\n",
        "\n",
        "    self.conv_fin = nn.Conv2d(nf, out_nf, 3, padding=1, stride = 1)\n",
        "    self.act1 = nn.Sigmoid()\n",
        "\n",
        "  def forward(self, x):\n",
        "    out = self.conv_st(x)\n",
        "    out = self.act0(out)\n",
        "    out = self.block(out)\n",
        "    out = self.conv_fin(out)\n",
        "    out = self.act1(out)\n",
        "\n",
        "    return out"
      ],
      "metadata": {
        "id": "uY2NTZqTEPH2"
      },
      "execution_count": 7,
      "outputs": []
    },
    {
      "cell_type": "markdown",
      "source": [
        "# Архитектура сети извлечения"
      ],
      "metadata": {
        "id": "tWIqR8e6fjD-"
      }
    },
    {
      "cell_type": "code",
      "source": [
        "class ConNormAct_ext(nn.Module):\n",
        "  def __init__(self, in_nf, out_nf):\n",
        "    super().__init__()\n",
        "\n",
        "    self.conv = nn.Conv2d(in_nf, out_nf, 3, stride = 1, padding = 1)\n",
        "    self.norm = nn.BatchNorm2d(out_nf)\n",
        "    self.act = nn.ReLU()\n",
        "\n",
        "  def forward(self, x):\n",
        "    out = self.conv(x)\n",
        "    out = self.norm(out)\n",
        "    out = self.act(out)\n",
        "\n",
        "    return out"
      ],
      "metadata": {
        "id": "SWbqOzvJhW5Y"
      },
      "execution_count": 8,
      "outputs": []
    },
    {
      "cell_type": "code",
      "source": [
        "class Extraction(nn.Module):\n",
        "  def __init__(self, in_nf = 1, nf = 64):\n",
        "    super().__init__()\n",
        "\n",
        "    self.layer0 = ConNormAct_ext(in_nf, nf)\n",
        "    self.layer1 = ConNormAct_ext(nf, 2*nf)\n",
        "    self.layer2 = ConNormAct_ext(2*nf, 4*nf)\n",
        "    self.layer3 = ConNormAct_ext(4*nf, 2*nf)\n",
        "    self.layer4 = ConNormAct_ext(2*nf, nf)\n",
        "\n",
        "    self.conv = nn.Conv2d(nf, in_nf, 3, padding =1, stride = 1)\n",
        "    self.act = nn.Sigmoid()\n",
        "\n",
        "  def forward(self, x):\n",
        "    out = self.layer0(x)\n",
        "    out = self.layer1(out)\n",
        "    out = self.layer2(out)\n",
        "    out = self.layer3(out)\n",
        "    out = self.layer4(out)\n",
        "\n",
        "    out = self.conv(out)\n",
        "    out = self.act(out)\n",
        "\n",
        "    return out"
      ],
      "metadata": {
        "id": "y63Q9y_4KJw-"
      },
      "execution_count": 9,
      "outputs": []
    },
    {
      "cell_type": "markdown",
      "source": [
        "# Объединение"
      ],
      "metadata": {
        "id": "_CdcHyYYTEk8"
      }
    },
    {
      "cell_type": "code",
      "source": [
        "class MultyNet(nn.Module):\n",
        "  def __init__(self):\n",
        "    super().__init__()\n",
        "\n",
        "    self.unet = Unet()\n",
        "    self.extr = Extraction()\n",
        "\n",
        "  def forward(self, con, mark):\n",
        "    vstr = self.unet(torch.cat((con, mark), axis=1))\n",
        "    izvl = self.extr(vstr)\n",
        "\n",
        "    return vstr, izvl\n"
      ],
      "metadata": {
        "id": "M_qTNJ52TEO0"
      },
      "execution_count": 10,
      "outputs": []
    },
    {
      "cell_type": "markdown",
      "source": [
        "# Datasets&Dataloader"
      ],
      "metadata": {
        "id": "07C4LWpUl1US"
      }
    },
    {
      "cell_type": "code",
      "source": [
        "from google.colab import files\n",
        "!unzip '/content/database.zip' -d '/content'"
      ],
      "metadata": {
        "id": "o-LRRHfvno1T"
      },
      "execution_count": null,
      "outputs": []
    },
    {
      "cell_type": "code",
      "source": [
        "from google.colab import drive\n",
        "drive.mount('/content/drive')"
      ],
      "metadata": {
        "colab": {
          "base_uri": "https://localhost:8080/"
        },
        "id": "UGpGWDcxKulG",
        "outputId": "dfcdddd1-3e09-4cbc-f712-f0bd26f4f073"
      },
      "execution_count": 1,
      "outputs": [
        {
          "output_type": "stream",
          "name": "stdout",
          "text": [
            "Mounted at /content/drive\n"
          ]
        }
      ]
    },
    {
      "cell_type": "code",
      "source": [
        "import cv2\n",
        "import torchvision.transforms.functional as TF\n",
        "import os"
      ],
      "metadata": {
        "id": "HFBFCXHGsgYM"
      },
      "execution_count": 11,
      "outputs": []
    },
    {
      "cell_type": "code",
      "source": [
        "os.remove('/content/database/countainers/.DS_Store')\n",
        "os.remove('/content/database/watermarks/.DS_Store')"
      ],
      "metadata": {
        "id": "haNdPjpxxlfI"
      },
      "execution_count": 14,
      "outputs": []
    },
    {
      "cell_type": "code",
      "source": [
        "class MyDataset(torch.utils.data.Dataset):\n",
        "  def __init__( self, papka_dir0:str, papka_dir1:str):\n",
        "    super().__init__()\n",
        "\n",
        "    self.papka_dir0 = papka_dir0\n",
        "    self.papka_dir1 = papka_dir1\n",
        "\n",
        "    self.dir0_list = sorted(os.listdir(papka_dir0))\n",
        "    self.dir1_list = sorted(os.listdir(papka_dir1))\n",
        "\n",
        "  def __len__(self):\n",
        "    return min(len(self.dir0_list) , len(self.dir1_list))\n",
        "\n",
        "  def __getitem__(self, index):\n",
        "    image0 = os.path.join(self.papka_dir0,\n",
        "                                self.dir0_list[index])\n",
        "    image1 = os.path.join(self.papka_dir1,\n",
        "                                self.dir1_list[index])\n",
        "\n",
        "    container = cv2.imread(image0, cv2.IMREAD_GRAYSCALE)\n",
        "    watermark = cv2.imread(image1, cv2.IMREAD_GRAYSCALE)\n",
        "    if container is not None:\n",
        "      container = container.astype(np.float32)/255.0\n",
        "      watermark = watermark.astype(np.float32)/255.0\n",
        "    else:\n",
        "      print(dir0_list[index])\n",
        "      return None\n",
        "\n",
        "    container = TF.to_tensor(container)\n",
        "    watermark = TF.to_tensor(watermark)\n",
        "\n",
        "    return container, watermark"
      ],
      "metadata": {
        "id": "wywU_F-2owQ7"
      },
      "execution_count": 12,
      "outputs": []
    },
    {
      "cell_type": "code",
      "source": [
        "containers = '/content/database/countainers'\n",
        "watermarks = '/content/database/watermarks'\n",
        "\n",
        "Dataset = MyDataset(containers, watermarks)"
      ],
      "metadata": {
        "id": "z2HV0dYFvNG9"
      },
      "execution_count": 15,
      "outputs": []
    },
    {
      "cell_type": "code",
      "source": [
        "Dataset.__len__()"
      ],
      "metadata": {
        "colab": {
          "base_uri": "https://localhost:8080/"
        },
        "id": "6IiSw0NE0AKw",
        "outputId": "40c733bf-c99c-4716-ce4b-d40a42ccc7a2"
      },
      "execution_count": 16,
      "outputs": [
        {
          "output_type": "execute_result",
          "data": {
            "text/plain": [
              "4734"
            ]
          },
          "metadata": {},
          "execution_count": 16
        }
      ]
    },
    {
      "cell_type": "code",
      "source": [
        "\n",
        "batch_size = 32\n",
        "\n",
        "train_loader = torch.utils.data.DataLoader(\n",
        "    Dataset, shuffle = True, batch_size = batch_size,\n",
        "    drop_last=True, num_workers=1\n",
        "    )\n",
        "model = MultyNet()\n",
        "\n",
        "loss_fn = nn.MSELoss()\n",
        "optimizer = torch.optim.Adam(model.parameters(), lr=0.001)"
      ],
      "metadata": {
        "id": "Pk2oH5qOwLmw"
      },
      "execution_count": 17,
      "outputs": []
    },
    {
      "cell_type": "code",
      "source": [
        "epochs = 3\n",
        "loss_epochs_list = []\n",
        "for epoch in range(epochs):\n",
        "  loss_val = 0\n",
        "  for pics in (pbar := tqdm(train_loader)):\n",
        "    if pics is not None:\n",
        "      con, mark = pics\n",
        "      optimizer.zero_grad()\n",
        "\n",
        "      vnedr, izvlech = model(con, mark)\n",
        "\n",
        "      loss = loss_fn(torch.cat((vnedr, izvlech),axis=1), torch.cat((con, mark), axis=1))\n",
        "      loss.backward()\n",
        "      loss_item = loss.item()\n",
        "      loss_val += loss_item\n",
        "\n",
        "      optimizer.step()\n",
        "  loss_epochs_list += [loss_val/len(train_loader)]\n",
        "  print(f'loss:{loss_epochs_list[-1]}')\n"
      ],
      "metadata": {
        "colab": {
          "base_uri": "https://localhost:8080/"
        },
        "id": "DS9c_ZhI0iY7",
        "outputId": "c577cdcd-12c4-42e4-bdf0-44ffb767afb4"
      },
      "execution_count": 18,
      "outputs": [
        {
          "output_type": "stream",
          "name": "stderr",
          "text": [
            "100%|██████████| 147/147 [1:48:32<00:00, 44.30s/it]\n"
          ]
        },
        {
          "output_type": "stream",
          "name": "stdout",
          "text": [
            "loss:0.014707839059434374\n"
          ]
        },
        {
          "output_type": "stream",
          "name": "stderr",
          "text": [
            "100%|██████████| 147/147 [1:48:02<00:00, 44.10s/it]\n"
          ]
        },
        {
          "output_type": "stream",
          "name": "stdout",
          "text": [
            "loss:0.004822831304718544\n"
          ]
        },
        {
          "output_type": "stream",
          "name": "stderr",
          "text": [
            "100%|██████████| 147/147 [1:47:41<00:00, 43.96s/it]"
          ]
        },
        {
          "output_type": "stream",
          "name": "stdout",
          "text": [
            "loss:0.0037879409255827364\n"
          ]
        },
        {
          "output_type": "stream",
          "name": "stderr",
          "text": [
            "\n"
          ]
        }
      ]
    },
    {
      "cell_type": "code",
      "source": [
        "import matplotlib.pyplot as plt\n",
        "plt.title('Loss:')\n",
        "plt.plot(loss_epochs_list)"
      ],
      "metadata": {
        "id": "8dGcF9E8CtQ9",
        "colab": {
          "base_uri": "https://localhost:8080/",
          "height": 469
        },
        "outputId": "23d64f41-9194-40f0-8924-e6b3983298e0"
      },
      "execution_count": 19,
      "outputs": [
        {
          "output_type": "execute_result",
          "data": {
            "text/plain": [
              "[<matplotlib.lines.Line2D at 0x7a7cdb7b5960>]"
            ]
          },
          "metadata": {},
          "execution_count": 19
        },
        {
          "output_type": "display_data",
          "data": {
            "text/plain": [
              "<Figure size 640x480 with 1 Axes>"
            ],
            "image/png": "[encoded data removed]"
          },
          "metadata": {}
        }
      ]
    },
    {
      "cell_type": "code",
      "source": [
        "torch.save(model.state_dict(), '/content/drive/MyDrive/Unet.pth')"
      ],
      "metadata": {
        "id": "URSORZsTJScS"
      },
      "execution_count": 22,
      "outputs": []
    },
    {
      "cell_type": "markdown",
      "source": [
        "Проверка результатов"
      ],
      "metadata": {
        "id": "xZ-YErvWOoxm"
      }
    },
    {
      "cell_type": "code",
      "source": [
        "model = MultyNet()\n",
        "model.load_state_dict(torch.load('/content/drive/MyDrive/Unet.pth'))\n",
        "model.train(False)"
      ],
      "metadata": {
        "id": "lPa7coybL32L"
      },
      "execution_count": null,
      "outputs": []
    },
    {
      "cell_type": "code",
      "source": [
        "import matplotlib.pyplot as plt\n",
        "for i in train_loader:\n",
        "  container, marka = i\n",
        "  block = i"
      ],
      "metadata": {
        "id": "oXVyfRxVJ3Il"
      },
      "execution_count": 62,
      "outputs": []
    },
    {
      "cell_type": "code",
      "source": [
        "plt.imshow(container.numpy()[0].transpose(1,2,0), cmap=\"gray\" )"
      ],
      "metadata": {
        "colab": {
          "base_uri": "https://localhost:8080/",
          "height": 449
        },
        "id": "RP5nLXDBOYgL",
        "outputId": "1e698227-b20d-4bb5-cb8e-e082312fd116"
      },
      "execution_count": 68,
      "outputs": [
        {
          "output_type": "execute_result",
          "data": {
            "text/plain": [
              "<matplotlib.image.AxesImage at 0x7e942d67a710>"
            ]
          },
          "metadata": {},
          "execution_count": 68
        },
        {
          "output_type": "display_data",
          "data": {
            "text/plain": [
              "<Figure size 640x480 with 1 Axes>"
            ],
            "image/png": "[encoded data removed]"
          },
          "metadata": {}
        }
      ]
    },
    {
      "cell_type": "code",
      "source": [
        "plt.imshow(marka.numpy()[0].transpose(1,2,0), cmap=\"gray\" )\n"
      ],
      "metadata": {
        "colab": {
          "base_uri": "https://localhost:8080/",
          "height": 449
        },
        "id": "C8ernK1KOizD",
        "outputId": "a059ae16-0010-4795-db67-3c7b47e00266"
      },
      "execution_count": 69,
      "outputs": [
        {
          "output_type": "execute_result",
          "data": {
            "text/plain": [
              "<matplotlib.image.AxesImage at 0x7e942d3fdcc0>"
            ]
          },
          "metadata": {},
          "execution_count": 69
        },
        {
          "output_type": "display_data",
          "data": {
            "text/plain": [
              "<Figure size 640x480 with 1 Axes>"
            ],
            "image/png": "[encoded data removed]"
          },
          "metadata": {}
        }
      ]
    },
    {
      "cell_type": "code",
      "source": [
        "vnedr, izvlech = model(container[0].unsqueeze(0), marka[0].unsqueeze(0))\n",
        "vnedr = F.sigmoid(vnedr.detach()).numpy()[0].transpose(1,2,0)\n",
        "izvlech = F.sigmoid(izvlech.detach()).numpy()[0].transpose(1,2,0)"
      ],
      "metadata": {
        "id": "R-BmI-BiOlOQ"
      },
      "execution_count": 65,
      "outputs": []
    },
    {
      "cell_type": "code",
      "source": [
        "plt.imshow(vnedr, cmap=\"gray\" )"
      ],
      "metadata": {
        "colab": {
          "base_uri": "https://localhost:8080/",
          "height": 449
        },
        "id": "Cpm29AQZP4A-",
        "outputId": "47032000-96e3-4859-cdbf-c55a3322613c"
      },
      "execution_count": 66,
      "outputs": [
        {
          "output_type": "execute_result",
          "data": {
            "text/plain": [
              "<matplotlib.image.AxesImage at 0x7e942d7836d0>"
            ]
          },
          "metadata": {},
          "execution_count": 66
        },
        {
          "output_type": "display_data",
          "data": {
            "text/plain": [
              "<Figure size 640x480 with 1 Axes>"
            ],
            "image/png": "[encoded data removed]"
          },
          "metadata": {}
        }
      ]
    },
    {
      "cell_type": "code",
      "source": [
        "plt.imshow(izvlech, cmap=\"gray\" )"
      ],
      "metadata": {
        "colab": {
          "base_uri": "https://localhost:8080/",
          "height": 449
        },
        "id": "4rF67whTQpQv",
        "outputId": "56252d4f-148a-442d-9a5d-089334a1ff36"
      },
      "execution_count": 67,
      "outputs": [
        {
          "output_type": "execute_result",
          "data": {
            "text/plain": [
              "<matplotlib.image.AxesImage at 0x7e942d5ff610>"
            ]
          },
          "metadata": {},
          "execution_count": 67
        },
        {
          "output_type": "display_data",
          "data": {
            "text/plain": [
              "<Figure size 640x480 with 1 Axes>"
            ],
            "image/png": "[encoded data removed]"
          },
          "metadata": {}
        }
      ]
    }
  ]
}