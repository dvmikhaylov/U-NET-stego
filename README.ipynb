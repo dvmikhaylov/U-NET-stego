{
  "nbformat": 4,
  "nbformat_minor": 0,
  "metadata": {
    "colab": {
      "provenance": []
    },
    "kernelspec": {
      "name": "python3",
      "display_name": "Python 3"
    },
    "language_info": {
      "name": "python"
    }
  },
  "cells": [
    {
      "cell_type": "markdown",
      "source": [
        "#Учебно-исследовательская практика"
      ],
      "metadata": {
        "id": "RI16fCDEWJWh"
      }
    },
    {
      "cell_type": "markdown",
      "source": [
        "Московский институт электроники и математики имени А. Н. Тихонова Национального исследовательского университета «Высшая школа экономики».\n",
        "\n",
        "Автор: студент группы БИБ223 Михайлов В.К."
      ],
      "metadata": {
        "id": "9yT0mfp2WWbv"
      }
    },
    {
      "cell_type": "markdown",
      "source": [
        "#Краткая информация"
      ],
      "metadata": {
        "id": "HK_atx-CWk7V"
      }
    },
    {
      "cell_type": "markdown",
      "source": [
        "Проект представляет из себя реализацию стойкого шифрования стегоизображения с последующим извлечением информации с помощью нейронной сети, модель построена на основе U-NET и показаывает высокую точность."
      ],
      "metadata": {
        "id": "5gJpriX2WWY6"
      }
    },
    {
      "cell_type": "markdown",
      "source": [
        "# Настройка"
      ],
      "metadata": {
        "id": "qspO5IPpWWTq"
      }
    },
    {
      "cell_type": "markdown",
      "source": [
        "Настройте virtualenv с помощью python\n",
        "\n",
        "Запустите pip install -r requirements.txt, чтобы загрузить библиотеки\n",
        "\n",
        "Запустите Файл Unet_stego.jpynb\n",
        "\n",
        "Вы можете обучить модель самостоятельно и использовать ее, или же использовать предобученную модель, которую можно скачать тут: https://disk.yandex.ru/d/rJvhbNGMhIwj0g"
      ],
      "metadata": {
        "id": "z3kfQcrsWWRT"
      }
    },
    {
      "cell_type": "markdown",
      "source": [
        "# Требования"
      ],
      "metadata": {
        "id": "ZCAHVOU_WV7-"
      }
    },
    {
      "cell_type": "markdown",
      "source": [
        "Python 3.10.11\n",
        "\n",
        "torch==2.1.0\n",
        "\n",
        "torchvision==0.16.0\n",
        "\n",
        "opencv==4.8.0\n",
        "\n",
        "numpy==1.25.2\n",
        "\n",
        "matplotlib==3.7.1\n",
        "\n",
        "tqdm==4.66.2"
      ],
      "metadata": {
        "id": "R1PE1w62Xkf0"
      }
    }
  ]
}